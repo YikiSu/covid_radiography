{
 "cells": [
  {
   "cell_type": "code",
   "execution_count": 2,
   "id": "848a3ecb",
   "metadata": {},
   "outputs": [],
   "source": [
    "import json\n",
    "from collections import OrderedDict\n",
    "\n",
    "import memory_profiler\n",
    "import numpy as np\n",
    "import pandas as pd\n",
    "import torch\n",
    "import torchvision\n",
    "from PIL import Image\n",
    "from sklearn.linear_model import LogisticRegression\n",
    "from sklearn.preprocessing import StandardScaler\n",
    "from torch import nn, optim\n",
    "from torchsummary import summary\n",
    "from torchvision import datasets, models, transforms\n",
    "import matplotlib.pyplot as plt"
   ]
  },
  {
   "cell_type": "code",
   "execution_count": 3,
   "id": "de8f435d",
   "metadata": {},
   "outputs": [],
   "source": [
    "device = torch.device('cuda' if torch.cuda.is_available() else 'cpu')\n"
   ]
  },
  {
   "cell_type": "code",
   "execution_count": 4,
   "id": "a30fd5de",
   "metadata": {},
   "outputs": [],
   "source": [
    "data_DIR = \"data/COVID_Radiography_Dataset/\"\n",
    "\n",
    "IMAGE_SIZE = 200\n",
    "BATCH_SIZE = 64\n",
    "\n",
    "data_transforms = transforms.Compose(\n",
    "    [\n",
    "        transforms.Resize(IMAGE_SIZE),\n",
    "        transforms.ToTensor(),\n",
    "        transforms.Normalize((0.5, 0.5, 0.5), (0.5, 0.5, 0.5)),\n",
    "    ]\n",
    ")\n",
    "\n",
    "dataset = torchvision.datasets.ImageFolder(root=data_DIR, transform=data_transforms)"
   ]
  },
  {
   "cell_type": "code",
   "execution_count": 5,
   "id": "c6b28d82",
   "metadata": {},
   "outputs": [],
   "source": [
    "train_size = int(round(len(dataset) * 0.75, 0))\n",
    "test_size = int(len(dataset) - train_size)"
   ]
  },
  {
   "cell_type": "code",
   "execution_count": 6,
   "id": "b6c1c6ec",
   "metadata": {},
   "outputs": [],
   "source": [
    "train_set, val_set = torch.utils.data.random_split(dataset, [train_size, test_size])"
   ]
  },
  {
   "cell_type": "code",
   "execution_count": 7,
   "id": "d3e45c31",
   "metadata": {},
   "outputs": [],
   "source": [
    "train_loader = torch.utils.data.DataLoader(train_set, batch_size=BATCH_SIZE, shuffle=True)\n",
    "valid_loader = torch.utils.data.DataLoader(val_set, batch_size=BATCH_SIZE, shuffle=True)"
   ]
  },
  {
   "cell_type": "code",
   "execution_count": 13,
   "id": "264a02e9",
   "metadata": {},
   "outputs": [],
   "source": [
    "densenet = models.densenet121(pretrained=True)"
   ]
  },
  {
   "cell_type": "code",
   "execution_count": 15,
   "id": "3e7d354f",
   "metadata": {},
   "outputs": [],
   "source": [
    "# Replace classification layer\n",
    "new_layers = nn.Sequential(OrderedDict([\n",
    "    ('new1', nn.Linear(1024, 500)),\n",
    "    ('relu', nn.ReLU()),\n",
    "    ('new2', nn.Linear(500, 1))\n",
    "]))\n",
    "densenet.classifier = new_layers"
   ]
  },
  {
   "cell_type": "code",
   "execution_count": 16,
   "id": "54772e23",
   "metadata": {},
   "outputs": [],
   "source": [
    "def trainer(model, criterion, optimizer, train_loader, valid_loader, device, epochs=5, verbose=True):\n",
    "    \"\"\"Simple training wrapper for PyTorch network.\"\"\"\n",
    "    \n",
    "    train_accuracy = []\n",
    "    valid_accuracy = []\n",
    "    for epoch in range(epochs):  # for each epoch\n",
    "        train_batch_loss = 0\n",
    "        train_batch_acc = 0\n",
    "        valid_batch_loss = 0\n",
    "        valid_batch_acc = 0\n",
    "        \n",
    "        # Training\n",
    "        for X, y in train_loader:\n",
    "            if device.type == 'cuda':\n",
    "                X, y = X.to(device), y.to(device)\n",
    "            optimizer.zero_grad()\n",
    "            y_hat = model(X).flatten()\n",
    "            y_hat_labels = torch.sigmoid(y_hat) > 0.5\n",
    "            loss = criterion(y_hat, y.type(torch.float32))\n",
    "            loss.backward()\n",
    "            optimizer.step()\n",
    "            train_batch_loss += loss.item()\n",
    "            train_batch_acc += (y_hat_labels == y).type(torch.float32).mean().item()\n",
    "        train_accuracy.append(train_batch_acc / len(train_loader))\n",
    "        \n",
    "        # Validation\n",
    "        model.eval()\n",
    "        with torch.no_grad():\n",
    "            for X, y in valid_loader:\n",
    "                if device.type == 'cuda':\n",
    "                    X, y = X.to(device), y.to(device)\n",
    "                y_hat = model(X).flatten()\n",
    "                y_hat_labels = torch.sigmoid(y_hat) > 0.5\n",
    "                loss = criterion(y_hat, y.type(torch.float32))\n",
    "                valid_batch_loss += loss.item()\n",
    "                valid_batch_acc += (y_hat_labels == y).type(torch.float32).mean().item()\n",
    "        valid_accuracy.append(valid_batch_acc / len(valid_loader))\n",
    "        model.train()\n",
    "        \n",
    "        # Print progress\n",
    "        if verbose:\n",
    "            print(f\"Epoch {epoch + 1}:\",\n",
    "                  f\"Train Accuracy: {train_accuracy[-1]:.2f}.\",\n",
    "                  f\"Valid Accuracy: {valid_accuracy[-1]:.2f}.\")\n",
    "    \n",
    "    return {\"train_accuracy\": train_accuracy, \"valid_accuracy\": valid_accuracy}"
   ]
  },
  {
   "cell_type": "code",
   "execution_count": null,
   "id": "45247972",
   "metadata": {},
   "outputs": [],
   "source": [
    "criterion = nn.BCEWithLogitsLoss()\n",
    "optimizer = torch.optim.Adam(densenet.parameters())\n",
    "results = trainer(densenet, criterion, optimizer, train_loader, valid_loader, device, epochs=10)"
   ]
  },
  {
   "cell_type": "code",
   "execution_count": null,
   "id": "ee805c72",
   "metadata": {},
   "outputs": [],
   "source": []
  }
 ],
 "metadata": {
  "kernelspec": {
   "display_name": "Python [conda env:mds572]",
   "language": "python",
   "name": "conda-env-mds572-py"
  },
  "language_info": {
   "codemirror_mode": {
    "name": "ipython",
    "version": 3
   },
   "file_extension": ".py",
   "mimetype": "text/x-python",
   "name": "python",
   "nbconvert_exporter": "python",
   "pygments_lexer": "ipython3",
   "version": "3.7.10"
  }
 },
 "nbformat": 4,
 "nbformat_minor": 5
}
