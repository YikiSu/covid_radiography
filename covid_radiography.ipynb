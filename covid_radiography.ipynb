{
 "cells": [
  {
   "cell_type": "code",
   "execution_count": 3,
   "id": "21ac8838",
   "metadata": {},
   "outputs": [],
   "source": [
    "import json\n",
    "import numpy as np\n",
    "import pandas as pd\n",
    "from collections import OrderedDict\n",
    "import torch\n",
    "import torchvision\n",
    "from torch import nn, optim\n",
    "from torchvision import transforms, models, datasets\n",
    "from torchsummary import summary\n",
    "from PIL import Image\n",
    "import memory_profiler \n",
    "from sklearn.linear_model import LogisticRegression\n",
    "from sklearn.preprocessing import StandardScaler"
   ]
  },
  {
   "cell_type": "code",
   "execution_count": 26,
   "id": "80454b6a",
   "metadata": {},
   "outputs": [],
   "source": [
    "data_DIR = \"data/COVID_Radiography_Dataset/\"\n",
    "\n",
    "IMAGE_SIZE = 64\n",
    "\n",
    "# data_transforms = transforms.Compose([\n",
    "#     transforms.Resize(IMAGE_SIZE),\n",
    "#     transforms.ToTensor()\n",
    "# ])\n",
    "\n",
    "dataset = torchvision.datasets.ImageFolder(root=data_DIR)\n",
    "#                                            , transform=data_transforms)"
   ]
  },
  {
   "cell_type": "code",
   "execution_count": 24,
   "id": "c1125db5",
   "metadata": {},
   "outputs": [],
   "source": [
    "train_size = int(round(len(dataset) * 0.75, 0))\n",
    "test_size = int(len(dataset) - train_size)"
   ]
  },
  {
   "cell_type": "code",
   "execution_count": 27,
   "id": "4d73896c",
   "metadata": {},
   "outputs": [],
   "source": [
    "train_set, val_set = torch.utils.data.random_split(dataset, [train_size, test_size])"
   ]
  },
  {
   "cell_type": "code",
   "execution_count": null,
   "id": "ae72d34f",
   "metadata": {},
   "outputs": [],
   "source": []
  }
 ],
 "metadata": {
  "kernelspec": {
   "display_name": "Python [conda env:mds572]",
   "language": "python",
   "name": "conda-env-mds572-py"
  },
  "language_info": {
   "codemirror_mode": {
    "name": "ipython",
    "version": 3
   },
   "file_extension": ".py",
   "mimetype": "text/x-python",
   "name": "python",
   "nbconvert_exporter": "python",
   "pygments_lexer": "ipython3",
   "version": "3.7.10"
  }
 },
 "nbformat": 4,
 "nbformat_minor": 5
}
